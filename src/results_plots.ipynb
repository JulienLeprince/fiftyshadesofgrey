{
 "cells": [
  {
   "cell_type": "markdown",
   "metadata": {},
   "source": [
    "# Results plots\n",
    "## Model Selection"
   ]
  },
  {
   "cell_type": "code",
   "execution_count": 1,
   "metadata": {},
   "outputs": [
    {
     "data": {
      "text/html": [
       "<div>\n",
       "<style scoped>\n",
       "    .dataframe tbody tr th:only-of-type {\n",
       "        vertical-align: middle;\n",
       "    }\n",
       "\n",
       "    .dataframe tbody tr th {\n",
       "        vertical-align: top;\n",
       "    }\n",
       "\n",
       "    .dataframe thead th {\n",
       "        text-align: right;\n",
       "    }\n",
       "</style>\n",
       "<table border=\"1\" class=\"dataframe\">\n",
       "  <thead>\n",
       "    <tr style=\"text-align: right;\">\n",
       "      <th></th>\n",
       "      <th>index</th>\n",
       "      <th>ite1</th>\n",
       "      <th>ite2</th>\n",
       "      <th>ite3</th>\n",
       "      <th>ite4</th>\n",
       "      <th>ite5</th>\n",
       "      <th>ite6</th>\n",
       "      <th>count</th>\n",
       "    </tr>\n",
       "  </thead>\n",
       "  <tbody>\n",
       "    <tr>\n",
       "      <th>0</th>\n",
       "      <td>NaN</td>\n",
       "      <td>Ti</td>\n",
       "      <td>TiTe</td>\n",
       "      <td>TiTeTh</td>\n",
       "      <td>NaN</td>\n",
       "      <td>NaN</td>\n",
       "      <td>NaN</td>\n",
       "      <td>1</td>\n",
       "    </tr>\n",
       "    <tr>\n",
       "      <th>1</th>\n",
       "      <td>1.0</td>\n",
       "      <td>Ti</td>\n",
       "      <td>TiTe</td>\n",
       "      <td>TiTeTs</td>\n",
       "      <td>TiTmTeTs</td>\n",
       "      <td>NaN</td>\n",
       "      <td>NaN</td>\n",
       "      <td>1</td>\n",
       "    </tr>\n",
       "    <tr>\n",
       "      <th>2</th>\n",
       "      <td>2.0</td>\n",
       "      <td>Ti</td>\n",
       "      <td>TiTh</td>\n",
       "      <td>TiTmTh</td>\n",
       "      <td>NaN</td>\n",
       "      <td>NaN</td>\n",
       "      <td>NaN</td>\n",
       "      <td>1</td>\n",
       "    </tr>\n",
       "  </tbody>\n",
       "</table>\n",
       "</div>"
      ],
      "text/plain": [
       "   index ite1  ite2    ite3      ite4  ite5  ite6  count\n",
       "0    NaN   Ti  TiTe  TiTeTh       NaN   NaN   NaN      1\n",
       "1    1.0   Ti  TiTe  TiTeTs  TiTmTeTs   NaN   NaN      1\n",
       "2    2.0   Ti  TiTh  TiTmTh       NaN   NaN   NaN      1"
      ]
     },
     "execution_count": 1,
     "metadata": {},
     "output_type": "execute_result"
    }
   ],
   "source": [
    "import numpy as np\n",
    "import pandas as pd\n",
    "\n",
    "# Define paths\n",
    "root_directory = \"C:/Users/20190285/Documents/GitHub/fiftyshadesofgrey\"\n",
    "path_res = root_directory + \"/data/out/\"\n",
    "\n",
    "# Load df_res\n",
    "df_res = pd.read_csv(path_res+'all_final_fits.csv')\n",
    "df_paths = pd.read_csv(path_res+'all_model_paths.csv')\n",
    "# Drop first column & set index as uuid\n",
    "df_res = df_res.drop(['Unnamed: 0'], axis=1).set_index(\"uuid\")\n",
    "df_paths = df_paths.drop(['Unnamed: 0'], axis=1).set_index(\"uuid\")\n",
    "df_paths = df_paths.fillna(0)\n",
    "\n",
    "# Groupby Object to identify model duplicates in model selection path\n",
    "df_paths_groupby = df_paths.groupby(df_paths.columns.values.tolist())\n",
    "df_paths_group = df_paths_groupby.size().reset_index()\n",
    "\n",
    "columns_considered = ['ite1', 'ite2', 'ite3', 'ite4', 'ite5', 'ite6']\n",
    "\n",
    "# Formating counts for Sankey ploting\n",
    "df_sankey = pd.DataFrame(df_paths_group).reset_index().rename(columns = {0:'count'})\n",
    "# Sorting the frame\n",
    "df_sankey.sort_values(by=['count'], ascending=False, inplace=True)\n",
    "df_sankey.reset_index(inplace=True, drop=True)\n",
    "df_sankey.replace(0, np.nan, inplace=True)\n",
    "\n",
    "df_sankey.head()"
   ]
  },
  {
   "cell_type": "code",
   "execution_count": 2,
   "metadata": {},
   "outputs": [],
   "source": [
    "import seaborn as sns\n",
    "import plotly.io as pio\n",
    "from plotly.offline import plot\n",
    "import plotly.graph_objects as go\n",
    "\n",
    "def genSankey(df, cat_cols=[], value_cols='', title='Sankey Diagram'):\n",
    "    \"\"\"Wrapper function for Sankey Diagram.\n",
    "    Source: https://medium.com/kenlok/how-to-create-sankey-diagrams-from-dataframes-in-python-e221c1b4d6b0\"\"\"\n",
    "\n",
    "    # maximum of 6 value cols -> 6 colors\n",
    "    colorPalette = sns.color_palette(\"Spectral\", len(cat_cols)).as_hex()\n",
    "    labelList = []\n",
    "    colorNumList = []\n",
    "    for catCol in cat_cols:\n",
    "        labelListTemp = list(set(df[catCol].values))\n",
    "        colorNumList.append(len(labelListTemp))\n",
    "        labelList = labelList + labelListTemp\n",
    "\n",
    "    # remove duplicates from labelList\n",
    "    labelList = list(dict.fromkeys(labelList))\n",
    "\n",
    "    # define colors based on number of levels\n",
    "    colorList = []\n",
    "    for idx, colorNum in enumerate(colorNumList):\n",
    "        colorList = colorList + [colorPalette[idx]] * colorNum\n",
    "\n",
    "    # transform df into a source-target pair\n",
    "    for i in range(len(cat_cols) - 1):\n",
    "        if i == 0:\n",
    "            sourceTargetDf = df[[cat_cols[i], cat_cols[i + 1], value_cols]]\n",
    "            sourceTargetDf.columns = ['source', 'target', 'count']\n",
    "        else:\n",
    "            tempDf = df[[cat_cols[i], cat_cols[i + 1], value_cols]]\n",
    "            tempDf.columns = ['source', 'target', 'count']\n",
    "            sourceTargetDf = pd.concat([sourceTargetDf, tempDf])\n",
    "        sourceTargetDf = sourceTargetDf.groupby(['source', 'target']).agg({'count': 'sum'}).reset_index()\n",
    "\n",
    "    # add index for source-target pair\n",
    "    sourceTargetDf['sourceID'] = sourceTargetDf['source'].apply(lambda x: labelList.index(x))\n",
    "    sourceTargetDf['targetID'] = sourceTargetDf['target'].apply(lambda x: labelList.index(x))\n",
    "\n",
    "    # creating the sankey diagram\n",
    "    data = dict(\n",
    "        type='sankey',\n",
    "        node=dict(\n",
    "            pad=15,\n",
    "            thickness=20,\n",
    "            line=dict(\n",
    "                color=\"black\",\n",
    "                width=0.5\n",
    "            ),\n",
    "            label=labelList,\n",
    "            color=colorList\n",
    "        ),\n",
    "        link=dict(\n",
    "            source=sourceTargetDf['sourceID'],\n",
    "            target=sourceTargetDf['targetID'],\n",
    "            value=sourceTargetDf['count']\n",
    "        )\n",
    "    )\n",
    "\n",
    "    layout = dict(\n",
    "        title=title,\n",
    "        font=dict(\n",
    "            family=\"Times New Roman\",\n",
    "            size=16\n",
    "        )\n",
    "    )\n",
    "\n",
    "    fig_dict = dict(data=[data], layout=layout)\n",
    "    return fig_dict"
   ]
  },
  {
   "cell_type": "code",
   "execution_count": 3,
   "metadata": {},
   "outputs": [
    {
     "data": {
      "application/vnd.plotly.v1+json": {
       "config": {
        "plotlyServerURL": "https://plot.ly"
       },
       "data": [
        {
         "link": {
          "source": [
           0,
           0,
           1,
           1,
           5,
           2
          ],
          "target": [
           1,
           2,
           3,
           5,
           7,
           4
          ],
          "value": [
           2,
           1,
           1,
           1,
           1,
           1
          ]
         },
         "node": {
          "color": [
           "#e2514a",
           "#fca55d",
           "#fca55d",
           "#fee999",
           "#fee999",
           "#fee999",
           "#edf8a3",
           "#edf8a3",
           "#a2d9a4",
           "#a2d9a4",
           "#a2d9a4",
           "#47a0b3",
           "#47a0b3",
           "#47a0b3"
          ],
          "label": [
           "Ti",
           "TiTe",
           "TiTh",
           "TiTeTh",
           "TiTmTh",
           "TiTeTs",
           null,
           "TiTmTeTs",
           null,
           null,
           null,
           null,
           null,
           null
          ],
          "line": {
           "color": "black",
           "width": 0.5
          },
          "pad": 15,
          "thickness": 20
         },
         "type": "sankey"
        }
       ],
       "layout": {
        "font": {
         "family": "Times New Roman",
         "size": 16
        },
        "template": {
         "data": {
          "bar": [
           {
            "error_x": {
             "color": "#2a3f5f"
            },
            "error_y": {
             "color": "#2a3f5f"
            },
            "marker": {
             "line": {
              "color": "#E5ECF6",
              "width": 0.5
             }
            },
            "type": "bar"
           }
          ],
          "barpolar": [
           {
            "marker": {
             "line": {
              "color": "#E5ECF6",
              "width": 0.5
             }
            },
            "type": "barpolar"
           }
          ],
          "carpet": [
           {
            "aaxis": {
             "endlinecolor": "#2a3f5f",
             "gridcolor": "white",
             "linecolor": "white",
             "minorgridcolor": "white",
             "startlinecolor": "#2a3f5f"
            },
            "baxis": {
             "endlinecolor": "#2a3f5f",
             "gridcolor": "white",
             "linecolor": "white",
             "minorgridcolor": "white",
             "startlinecolor": "#2a3f5f"
            },
            "type": "carpet"
           }
          ],
          "choropleth": [
           {
            "colorbar": {
             "outlinewidth": 0,
             "ticks": ""
            },
            "type": "choropleth"
           }
          ],
          "contour": [
           {
            "colorbar": {
             "outlinewidth": 0,
             "ticks": ""
            },
            "colorscale": [
             [
              0,
              "#0d0887"
             ],
             [
              0.1111111111111111,
              "#46039f"
             ],
             [
              0.2222222222222222,
              "#7201a8"
             ],
             [
              0.3333333333333333,
              "#9c179e"
             ],
             [
              0.4444444444444444,
              "#bd3786"
             ],
             [
              0.5555555555555556,
              "#d8576b"
             ],
             [
              0.6666666666666666,
              "#ed7953"
             ],
             [
              0.7777777777777778,
              "#fb9f3a"
             ],
             [
              0.8888888888888888,
              "#fdca26"
             ],
             [
              1,
              "#f0f921"
             ]
            ],
            "type": "contour"
           }
          ],
          "contourcarpet": [
           {
            "colorbar": {
             "outlinewidth": 0,
             "ticks": ""
            },
            "type": "contourcarpet"
           }
          ],
          "heatmap": [
           {
            "colorbar": {
             "outlinewidth": 0,
             "ticks": ""
            },
            "colorscale": [
             [
              0,
              "#0d0887"
             ],
             [
              0.1111111111111111,
              "#46039f"
             ],
             [
              0.2222222222222222,
              "#7201a8"
             ],
             [
              0.3333333333333333,
              "#9c179e"
             ],
             [
              0.4444444444444444,
              "#bd3786"
             ],
             [
              0.5555555555555556,
              "#d8576b"
             ],
             [
              0.6666666666666666,
              "#ed7953"
             ],
             [
              0.7777777777777778,
              "#fb9f3a"
             ],
             [
              0.8888888888888888,
              "#fdca26"
             ],
             [
              1,
              "#f0f921"
             ]
            ],
            "type": "heatmap"
           }
          ],
          "heatmapgl": [
           {
            "colorbar": {
             "outlinewidth": 0,
             "ticks": ""
            },
            "colorscale": [
             [
              0,
              "#0d0887"
             ],
             [
              0.1111111111111111,
              "#46039f"
             ],
             [
              0.2222222222222222,
              "#7201a8"
             ],
             [
              0.3333333333333333,
              "#9c179e"
             ],
             [
              0.4444444444444444,
              "#bd3786"
             ],
             [
              0.5555555555555556,
              "#d8576b"
             ],
             [
              0.6666666666666666,
              "#ed7953"
             ],
             [
              0.7777777777777778,
              "#fb9f3a"
             ],
             [
              0.8888888888888888,
              "#fdca26"
             ],
             [
              1,
              "#f0f921"
             ]
            ],
            "type": "heatmapgl"
           }
          ],
          "histogram": [
           {
            "marker": {
             "colorbar": {
              "outlinewidth": 0,
              "ticks": ""
             }
            },
            "type": "histogram"
           }
          ],
          "histogram2d": [
           {
            "colorbar": {
             "outlinewidth": 0,
             "ticks": ""
            },
            "colorscale": [
             [
              0,
              "#0d0887"
             ],
             [
              0.1111111111111111,
              "#46039f"
             ],
             [
              0.2222222222222222,
              "#7201a8"
             ],
             [
              0.3333333333333333,
              "#9c179e"
             ],
             [
              0.4444444444444444,
              "#bd3786"
             ],
             [
              0.5555555555555556,
              "#d8576b"
             ],
             [
              0.6666666666666666,
              "#ed7953"
             ],
             [
              0.7777777777777778,
              "#fb9f3a"
             ],
             [
              0.8888888888888888,
              "#fdca26"
             ],
             [
              1,
              "#f0f921"
             ]
            ],
            "type": "histogram2d"
           }
          ],
          "histogram2dcontour": [
           {
            "colorbar": {
             "outlinewidth": 0,
             "ticks": ""
            },
            "colorscale": [
             [
              0,
              "#0d0887"
             ],
             [
              0.1111111111111111,
              "#46039f"
             ],
             [
              0.2222222222222222,
              "#7201a8"
             ],
             [
              0.3333333333333333,
              "#9c179e"
             ],
             [
              0.4444444444444444,
              "#bd3786"
             ],
             [
              0.5555555555555556,
              "#d8576b"
             ],
             [
              0.6666666666666666,
              "#ed7953"
             ],
             [
              0.7777777777777778,
              "#fb9f3a"
             ],
             [
              0.8888888888888888,
              "#fdca26"
             ],
             [
              1,
              "#f0f921"
             ]
            ],
            "type": "histogram2dcontour"
           }
          ],
          "mesh3d": [
           {
            "colorbar": {
             "outlinewidth": 0,
             "ticks": ""
            },
            "type": "mesh3d"
           }
          ],
          "parcoords": [
           {
            "line": {
             "colorbar": {
              "outlinewidth": 0,
              "ticks": ""
             }
            },
            "type": "parcoords"
           }
          ],
          "pie": [
           {
            "automargin": true,
            "type": "pie"
           }
          ],
          "scatter": [
           {
            "marker": {
             "colorbar": {
              "outlinewidth": 0,
              "ticks": ""
             }
            },
            "type": "scatter"
           }
          ],
          "scatter3d": [
           {
            "line": {
             "colorbar": {
              "outlinewidth": 0,
              "ticks": ""
             }
            },
            "marker": {
             "colorbar": {
              "outlinewidth": 0,
              "ticks": ""
             }
            },
            "type": "scatter3d"
           }
          ],
          "scattercarpet": [
           {
            "marker": {
             "colorbar": {
              "outlinewidth": 0,
              "ticks": ""
             }
            },
            "type": "scattercarpet"
           }
          ],
          "scattergeo": [
           {
            "marker": {
             "colorbar": {
              "outlinewidth": 0,
              "ticks": ""
             }
            },
            "type": "scattergeo"
           }
          ],
          "scattergl": [
           {
            "marker": {
             "colorbar": {
              "outlinewidth": 0,
              "ticks": ""
             }
            },
            "type": "scattergl"
           }
          ],
          "scattermapbox": [
           {
            "marker": {
             "colorbar": {
              "outlinewidth": 0,
              "ticks": ""
             }
            },
            "type": "scattermapbox"
           }
          ],
          "scatterpolar": [
           {
            "marker": {
             "colorbar": {
              "outlinewidth": 0,
              "ticks": ""
             }
            },
            "type": "scatterpolar"
           }
          ],
          "scatterpolargl": [
           {
            "marker": {
             "colorbar": {
              "outlinewidth": 0,
              "ticks": ""
             }
            },
            "type": "scatterpolargl"
           }
          ],
          "scatterternary": [
           {
            "marker": {
             "colorbar": {
              "outlinewidth": 0,
              "ticks": ""
             }
            },
            "type": "scatterternary"
           }
          ],
          "surface": [
           {
            "colorbar": {
             "outlinewidth": 0,
             "ticks": ""
            },
            "colorscale": [
             [
              0,
              "#0d0887"
             ],
             [
              0.1111111111111111,
              "#46039f"
             ],
             [
              0.2222222222222222,
              "#7201a8"
             ],
             [
              0.3333333333333333,
              "#9c179e"
             ],
             [
              0.4444444444444444,
              "#bd3786"
             ],
             [
              0.5555555555555556,
              "#d8576b"
             ],
             [
              0.6666666666666666,
              "#ed7953"
             ],
             [
              0.7777777777777778,
              "#fb9f3a"
             ],
             [
              0.8888888888888888,
              "#fdca26"
             ],
             [
              1,
              "#f0f921"
             ]
            ],
            "type": "surface"
           }
          ],
          "table": [
           {
            "cells": {
             "fill": {
              "color": "#EBF0F8"
             },
             "line": {
              "color": "white"
             }
            },
            "header": {
             "fill": {
              "color": "#C8D4E3"
             },
             "line": {
              "color": "white"
             }
            },
            "type": "table"
           }
          ]
         },
         "layout": {
          "annotationdefaults": {
           "arrowcolor": "#2a3f5f",
           "arrowhead": 0,
           "arrowwidth": 1
          },
          "autotypenumbers": "strict",
          "coloraxis": {
           "colorbar": {
            "outlinewidth": 0,
            "ticks": ""
           }
          },
          "colorscale": {
           "diverging": [
            [
             0,
             "#8e0152"
            ],
            [
             0.1,
             "#c51b7d"
            ],
            [
             0.2,
             "#de77ae"
            ],
            [
             0.3,
             "#f1b6da"
            ],
            [
             0.4,
             "#fde0ef"
            ],
            [
             0.5,
             "#f7f7f7"
            ],
            [
             0.6,
             "#e6f5d0"
            ],
            [
             0.7,
             "#b8e186"
            ],
            [
             0.8,
             "#7fbc41"
            ],
            [
             0.9,
             "#4d9221"
            ],
            [
             1,
             "#276419"
            ]
           ],
           "sequential": [
            [
             0,
             "#0d0887"
            ],
            [
             0.1111111111111111,
             "#46039f"
            ],
            [
             0.2222222222222222,
             "#7201a8"
            ],
            [
             0.3333333333333333,
             "#9c179e"
            ],
            [
             0.4444444444444444,
             "#bd3786"
            ],
            [
             0.5555555555555556,
             "#d8576b"
            ],
            [
             0.6666666666666666,
             "#ed7953"
            ],
            [
             0.7777777777777778,
             "#fb9f3a"
            ],
            [
             0.8888888888888888,
             "#fdca26"
            ],
            [
             1,
             "#f0f921"
            ]
           ],
           "sequentialminus": [
            [
             0,
             "#0d0887"
            ],
            [
             0.1111111111111111,
             "#46039f"
            ],
            [
             0.2222222222222222,
             "#7201a8"
            ],
            [
             0.3333333333333333,
             "#9c179e"
            ],
            [
             0.4444444444444444,
             "#bd3786"
            ],
            [
             0.5555555555555556,
             "#d8576b"
            ],
            [
             0.6666666666666666,
             "#ed7953"
            ],
            [
             0.7777777777777778,
             "#fb9f3a"
            ],
            [
             0.8888888888888888,
             "#fdca26"
            ],
            [
             1,
             "#f0f921"
            ]
           ]
          },
          "colorway": [
           "#636efa",
           "#EF553B",
           "#00cc96",
           "#ab63fa",
           "#FFA15A",
           "#19d3f3",
           "#FF6692",
           "#B6E880",
           "#FF97FF",
           "#FECB52"
          ],
          "font": {
           "color": "#2a3f5f"
          },
          "geo": {
           "bgcolor": "white",
           "lakecolor": "white",
           "landcolor": "#E5ECF6",
           "showlakes": true,
           "showland": true,
           "subunitcolor": "white"
          },
          "hoverlabel": {
           "align": "left"
          },
          "hovermode": "closest",
          "mapbox": {
           "style": "light"
          },
          "paper_bgcolor": "white",
          "plot_bgcolor": "#E5ECF6",
          "polar": {
           "angularaxis": {
            "gridcolor": "white",
            "linecolor": "white",
            "ticks": ""
           },
           "bgcolor": "#E5ECF6",
           "radialaxis": {
            "gridcolor": "white",
            "linecolor": "white",
            "ticks": ""
           }
          },
          "scene": {
           "xaxis": {
            "backgroundcolor": "#E5ECF6",
            "gridcolor": "white",
            "gridwidth": 2,
            "linecolor": "white",
            "showbackground": true,
            "ticks": "",
            "zerolinecolor": "white"
           },
           "yaxis": {
            "backgroundcolor": "#E5ECF6",
            "gridcolor": "white",
            "gridwidth": 2,
            "linecolor": "white",
            "showbackground": true,
            "ticks": "",
            "zerolinecolor": "white"
           },
           "zaxis": {
            "backgroundcolor": "#E5ECF6",
            "gridcolor": "white",
            "gridwidth": 2,
            "linecolor": "white",
            "showbackground": true,
            "ticks": "",
            "zerolinecolor": "white"
           }
          },
          "shapedefaults": {
           "line": {
            "color": "#2a3f5f"
           }
          },
          "ternary": {
           "aaxis": {
            "gridcolor": "white",
            "linecolor": "white",
            "ticks": ""
           },
           "baxis": {
            "gridcolor": "white",
            "linecolor": "white",
            "ticks": ""
           },
           "bgcolor": "#E5ECF6",
           "caxis": {
            "gridcolor": "white",
            "linecolor": "white",
            "ticks": ""
           }
          },
          "title": {
           "x": 0.05
          },
          "xaxis": {
           "automargin": true,
           "gridcolor": "white",
           "linecolor": "white",
           "ticks": "",
           "title": {
            "standoff": 15
           },
           "zerolinecolor": "white",
           "zerolinewidth": 2
          },
          "yaxis": {
           "automargin": true,
           "gridcolor": "white",
           "linecolor": "white",
           "ticks": "",
           "title": {
            "standoff": 15
           },
           "zerolinecolor": "white",
           "zerolinewidth": 2
          }
         }
        },
        "title": {
         "text": ""
        }
       }
      }
     },
     "metadata": {},
     "output_type": "display_data"
    }
   ],
   "source": [
    "### PLOTTING\n",
    "fig_dict = genSankey(df_sankey, cat_cols=columns_considered, value_cols='count', title='')\n",
    "# Inline plot\n",
    "fig = go.Figure(fig_dict)\n",
    "fig.show()"
   ]
  },
  {
   "cell_type": "markdown",
   "metadata": {},
   "source": [
    "# Grey-box model type proportions"
   ]
  },
  {
   "cell_type": "code",
   "execution_count": 4,
   "metadata": {
    "tags": []
   },
   "outputs": [
    {
     "name": "stderr",
     "output_type": "stream",
     "text": [
      "C:\\Users\\20190285\\AppData\\Local\\Continuum\\anaconda3\\lib\\site-packages\\ipykernel_launcher.py:165: UserWarning:\n",
      "\n",
      "FixedFormatter should only be used together with FixedLocator\n",
      "\n",
      "C:\\Users\\20190285\\AppData\\Local\\Continuum\\anaconda3\\lib\\site-packages\\ipykernel_launcher.py:200: UserWarning:\n",
      "\n",
      "FixedFormatter should only be used together with FixedLocator\n",
      "\n",
      "C:\\Users\\20190285\\AppData\\Local\\Continuum\\anaconda3\\lib\\site-packages\\ipykernel_launcher.py:337: UserWarning:\n",
      "\n",
      "FixedFormatter should only be used together with FixedLocator\n",
      "\n"
     ]
    },
    {
     "data": {
      "image/png": "[encoded data removed]",
      "text/plain": [
       "<Figure size 720x432 with 10 Axes>"
      ]
     },
     "metadata": {
      "needs_background": "light"
     },
     "output_type": "display_data"
    }
   ],
   "source": [
    "import numpy as np\n",
    "import seaborn as sns\n",
    "import matplotlib.pyplot as plt\n",
    "from matplotlib import gridspec\n",
    "import matplotlib\n",
    "import itertools\n",
    "import math\n",
    "from scipy.stats import gaussian_kde\n",
    "\n",
    "def rof(x):   \n",
    "  '''round up to multiple of 5'''\n",
    "  if x%5==4:\n",
    "      x+=1\n",
    "  elif x%5==3:\n",
    "      x+=2\n",
    "  return x\n",
    "\n",
    "### DATA PREP\n",
    "# Groupby keys\n",
    "bins = pd.IntervalIndex.from_tuples([(-0.01, 0.01), (0.01, 0.025), (0.025, 0.9)])\n",
    "df_res[\"CPBES_groups\"] = pd.cut(df_res[\"nCPBES\"], bins=bins, labels=['good', 'close', 'poor']).astype(str)\n",
    "index = df_res.groupby(['CPBES_groups']).size().index\n",
    "#index_name = ['good', 'close', 'poor']     # to uncomment for model falling under all 3 categories\n",
    "index_name = ['good', 'close']\n",
    "\n",
    "df_res1 = df_res.copy()\n",
    "\n",
    "# Font\n",
    "plt.rc('font', family='serif')\n",
    "plt.rc('xtick', labelsize=12)\n",
    "plt.rc('ytick', labelsize=12)\n",
    "\n",
    "# Subplots\n",
    "fig = plt.figure(constrained_layout=True, figsize=(10, 6))\n",
    "spec = gridspec.GridSpec(ncols=5, nrows=2, figure=fig,\n",
    "                         height_ratios=[2, 5], \n",
    "                         left=0, right=1, hspace=0,\n",
    "                        )\n",
    "\n",
    "axs11 = fig.add_subplot(spec[0,0])\n",
    "axs21 = fig.add_subplot(spec[0,1], sharey=axs11)\n",
    "axs31 = fig.add_subplot(spec[0,2])\n",
    "axs41 = fig.add_subplot(spec[0,3], sharey=axs31)\n",
    "axs81 = fig.add_subplot(spec[0,4], sharey=axs31)\n",
    "\n",
    "axs12 = fig.add_subplot(spec[1,0])\n",
    "axs22 = fig.add_subplot(spec[1,1], sharey=axs12)\n",
    "axs32 = fig.add_subplot(spec[1,2])\n",
    "axs42 = fig.add_subplot(spec[1,3], sharey=axs32)\n",
    "axs82 = fig.add_subplot(spec[1,4], sharey=axs32)\n",
    "\n",
    "\n",
    "\n",
    "### RESIDUAL PLOT\n",
    "sign_groups = []\n",
    "for key in index:\n",
    "  idx = list(df_res.groupby(['CPBES_groups']).groups[key])\n",
    "  # Significance\n",
    "  sign_groups.append(df_res.loc[idx, 'residual_std'].values)\n",
    "\n",
    "# Source: https://matplotlib.org/stable/gallery/statistics/customized_violin.html#sphx-glr-gallery-statistics-customized-violin-py\n",
    "def adjacent_values(vals, q1, q3):\n",
    "    upper_adjacent_value = q3 + (q3 - q1) * 1.5\n",
    "    upper_adjacent_value = np.clip(upper_adjacent_value, q3, vals[-1])\n",
    "\n",
    "    lower_adjacent_value = q1 - (q3 - q1) * 1.5\n",
    "    lower_adjacent_value = np.clip(lower_adjacent_value, vals[0], q1)\n",
    "    return lower_adjacent_value, upper_adjacent_value\n",
    "# VIOLIN PLOT\n",
    "parts = axs11.violinplot(sign_groups, showmeans=False, showmedians=False, showextrema=False, vert=False)\n",
    "for pc in parts['bodies']:\n",
    "    pc.set_facecolor('#D43F3A')\n",
    "    pc.set_edgecolor('black')\n",
    "    pc.set_alpha(1)\n",
    "quartile1, medians, quartile3 = [], [], []\n",
    "for l in sign_groups:\n",
    "    quartile1.append(np.percentile(l, [25, 50, 75])[0])\n",
    "    medians.append(np.percentile(l, [25, 50, 75])[1])\n",
    "    quartile3.append(np.percentile(l, [25, 50, 75])[2])\n",
    "whiskers = np.array([adjacent_values(sorted_array, q1, q3) for sorted_array, q1, q3 in zip(sign_groups, quartile1, quartile3)])\n",
    "whiskers_min, whiskers_max = whiskers[:, 0], whiskers[:, 1]\n",
    "inds = np.arange(1, len(medians) + 1)\n",
    "axs11.scatter(medians, inds, marker='o', color='white', s=30, zorder=3)\n",
    "axs11.hlines(inds, quartile1, quartile3, color='k', linestyle='-', lw=5)\n",
    "axs11.hlines(inds, whiskers_min, whiskers_max, color='k', linestyle='-', lw=1)\n",
    " # Ticks\n",
    "axs11.set_xlim(0.05, 0.45)\n",
    "axs11.set_xticks([0.1, 0.2, 0.3, 0.4])\n",
    "axs11.set_axisbelow(True)\n",
    "axs11.xaxis.set_ticklabels([])\n",
    "axs11.grid(axis='x', linestyle='--', zorder=-1)\n",
    "axs11.set_title('$e_k$\\nstandard\\ndeviation\\n', fontsize=12)\n",
    "\n",
    "axs21.set_yticks([1, 2, 3])\n",
    "axs21.set_yticklabels(['good fits', 'close fits', 'poor fits'], fontsize=12)\n",
    "\n",
    "### SIGNIFICANCE PLOT\n",
    "sign_groups = []\n",
    "for key in index:\n",
    "  idx = list(df_res.groupby(['CPBES_groups']).groups[key])\n",
    "  # Significance\n",
    "  sign_groups.append(df_res.loc[idx, 'significance_prop'].values)\n",
    "\n",
    "# Source: https://matplotlib.org/stable/gallery/statistics/customized_violin.html#sphx-glr-gallery-statistics-customized-violin-py\n",
    "def adjacent_values(vals, q1, q3):\n",
    "    upper_adjacent_value = q3 + (q3 - q1) * 1.5\n",
    "    upper_adjacent_value = np.clip(upper_adjacent_value, q3, vals[-1])\n",
    "\n",
    "    lower_adjacent_value = q1 - (q3 - q1) * 1.5\n",
    "    lower_adjacent_value = np.clip(lower_adjacent_value, vals[0], q1)\n",
    "    return lower_adjacent_value, upper_adjacent_value\n",
    "# VIOLIN PLOT\n",
    "parts = axs21.violinplot(sign_groups, showmeans=False, showmedians=False, showextrema=False, vert=False)\n",
    "for pc in parts['bodies']:\n",
    "    pc.set_facecolor('#D43F3A')\n",
    "    pc.set_edgecolor('black')\n",
    "    pc.set_alpha(1)\n",
    "quartile1, medians, quartile3 = [], [], []\n",
    "for l in sign_groups:\n",
    "    quartile1.append(np.percentile(l, [25, 50, 75])[0])\n",
    "    medians.append(np.percentile(l, [25, 50, 75])[1])\n",
    "    quartile3.append(np.percentile(l, [25, 50, 75])[2])\n",
    "whiskers = np.array([adjacent_values(sorted_array, q1, q3) for sorted_array, q1, q3 in zip(sign_groups, quartile1, quartile3)])\n",
    "whiskers_min, whiskers_max = whiskers[:, 0], whiskers[:, 1]\n",
    "inds = np.arange(1, len(medians) + 1)\n",
    "axs21.scatter(medians, inds, marker='o', color='white', s=30, zorder=3)\n",
    "axs21.hlines(inds, quartile1, quartile3, color='k', linestyle='-', lw=5)\n",
    "axs21.hlines(inds, whiskers_min, whiskers_max, color='k', linestyle='-', lw=1)\n",
    " # Ticks\n",
    "#axs21.set_xlabel('Proportion [%]', fontsize=12)\n",
    "axs21.set_axisbelow(True)\n",
    "axs21.grid(axis='x', linestyle='--', zorder=-1)\n",
    "axs21.set_xticks([20, 40, 60, 80])\n",
    "axs21.set_xlim(15,100)\n",
    "axs21.xaxis.set_ticklabels([])\n",
    "axs21.set_title('Significant\\nparameters\\n', fontsize=12)\n",
    "\n",
    "axs21.yaxis.set_visible(False)\n",
    "\n",
    "\n",
    "### Proportion of model iteration\n",
    "parameter = 'iteration'   # home_type, home_size\n",
    "df_res1[parameter].fillna(\"Unknown\", inplace=True)\n",
    "# defining color map - https://towardsdatascience.com/stacked-bar-charts-with-pythons-matplotlib-f4020e4eb4a7\n",
    "cmap = matplotlib.cm.get_cmap('Spectral')\n",
    "colors = []\n",
    "int = 0\n",
    "for i in np.linspace(0,1,len(df_res1[parameter].unique())):\n",
    "    colors.append(cmap(i))\n",
    "counts = df_res1.groupby(['CPBES_groups', parameter]).size().reset_index().pivot_table(values=0, index=['CPBES_groups'], columns=parameter, aggfunc=np.sum).fillna(0)\n",
    "counts = counts.loc[index]\n",
    "counts.index = pd.Index(index_name, name='CPBES_groups')\n",
    "counts = counts.loc[:, counts.columns != 'Unknown'].divide( counts.loc[:, counts.columns != 'Unknown'].sum(axis=1), axis='index').fillna(0)*100\n",
    "\n",
    "left = len(counts) * [0]\n",
    "for idx, name in enumerate(counts.columns):\n",
    "    axs31.barh(counts.index, counts[name], left = left, color=colors[idx], label=name, zorder=3)\n",
    "    left = left + counts[name]\n",
    "# Legend\n",
    "axs31.legend(prop={'size': 12}, title = \"Forward model\\nselection iteration\", title_fontsize='large', frameon=False, \n",
    "             bbox_to_anchor=(0, 1.1, 1, 0), loc=\"lower left\", mode=\"expand\", ncol=2)\n",
    "#axs31.set_xlabel('Proportion [%]', fontsize=12)\n",
    "axs31.grid(axis='x', linestyle='--', zorder=0)\n",
    "# Ticks\n",
    "axs31.set_yticklabels(counts.index, fontsize=12)\n",
    "axs31.set_xticks([25, 50, 75])\n",
    "axs31.set_xlim(0,100)\n",
    "axs31.xaxis.set_ticklabels([])\n",
    "axs31.yaxis.set_visible(False)\n",
    "\n",
    "\n",
    "### Proportion of model components\n",
    "model_components = ['Ti', 'Ts', 'Th', 'Te', 'Tm', 'AeRia']\n",
    "\n",
    "# defining color map - https://towardsdatascience.com/stacked-bar-charts-with-pythons-matplotlib-f4020e4eb4a7\n",
    "cmap = matplotlib.cm.get_cmap('Spectral')\n",
    "colors = []\n",
    "int = 0\n",
    "for i in np.linspace(0,1,len(model_components)):\n",
    "    colors.append(cmap(i))\n",
    "\n",
    "counts = pd.DataFrame(df_res1.groupby(['CPBES_groups', 'model_name']).size().to_frame('size'))\n",
    "for idx in counts.index:\n",
    "  for col in model_components:\n",
    "    counts.loc[idx,col] = counts.loc[idx, 'size'] if col in idx[1] else 0\n",
    "counts = counts.groupby(level=0, axis=0).sum().loc[:,model_components]\n",
    "counts.index = pd.Index(index_name, name='CPBES_groups')\n",
    "counts = counts.loc[:, counts.columns != 'Unknown'].divide( counts.loc[:, counts.columns != 'Unknown'].sum(axis=1), axis='index').fillna(0)*100\n",
    "\n",
    "left = len(counts) * [0]\n",
    "for idx, name in enumerate(counts.columns):\n",
    "    axs41.barh(counts.index, counts[name], left = left, color=colors[idx], label=name, zorder=3)\n",
    "    left = left + counts[name]\n",
    "# Legend\n",
    "axs41.legend(prop={'size': 12}, title = \"Model component\", title_fontsize='large', frameon=False, \n",
    "             bbox_to_anchor=(0, 1.1, 1, 0), loc=\"lower left\", mode=\"expand\", ncol=1)\n",
    "#axs41.set_xlabel('Proportion [%]', fontsize=12)\n",
    "axs41.grid(axis='x', linestyle='--', zorder=0)\n",
    "# Ticks\n",
    "axs41.set_yticklabels(counts.index, fontsize=12)\n",
    "axs41.set_xticks([25, 50, 75])\n",
    "axs41.set_xlim(0,100)\n",
    "axs41.xaxis.set_ticklabels([])\n",
    "axs41.yaxis.set_visible(False)\n",
    "\n",
    "\n",
    "## Count plot\n",
    "counts = df_res1.groupby(['CPBES_groups']).size().reset_index().fillna(0)\n",
    "\n",
    "left = len(counts) * [0]\n",
    "axs81.barh(index, counts[0], left = left, color='k', label='Known', zorder=3)\n",
    "\n",
    "# Legend\n",
    "axs81.grid(axis='x', linestyle='--', zorder=0)\n",
    "# Ticks\n",
    "tick_list =np.arange(0, rof(round(max(df_res1.groupby(['CPBES_groups']).size()))), 1)\n",
    "axs81.set_xticks(tick_list)\n",
    "nan_list = ([0, np.nan]*math.floor(len(tick_list)/2))\n",
    "tick_label = [sum(x) for x in itertools.zip_longest(*[tick_list, nan_list], fillvalue=0)]\n",
    "tick_label = [None if np.isnan(x) else x for x in tick_label]\n",
    "axs81.set_xticklabels(tick_label, fontsize=12)\n",
    "axs81.yaxis.set_visible(False)\n",
    "axs81.xaxis.tick_top()\n",
    "\n",
    "\n",
    "###########################################################################\n",
    "\n",
    "### DATA PREP\n",
    "# Groupby keys\n",
    "index = df_res.groupby(['model_name']).size().sort_values(ascending=True).index\n",
    "\n",
    "### RESIDUAL RANGE PLOT\n",
    "sign_groups = []\n",
    "for key in index:\n",
    "  idx = list(df_res.groupby(['model_name']).groups[key])\n",
    "  # Significance\n",
    "  sign_groups.append(df_res.loc[idx, 'residual_std'].values)\n",
    "# Source: https://matplotlib.org/stable/gallery/statistics/customized_violin.html#sphx-glr-gallery-statistics-customized-violin-py\n",
    "def adjacent_values(vals, q1, q3):\n",
    "    upper_adjacent_value = q3 + (q3 - q1) * 1.5\n",
    "    upper_adjacent_value = np.clip(upper_adjacent_value, q3, vals[-1])\n",
    "\n",
    "    lower_adjacent_value = q1 - (q3 - q1) * 1.5\n",
    "    lower_adjacent_value = np.clip(lower_adjacent_value, vals[0], q1)\n",
    "    return lower_adjacent_value, upper_adjacent_value\n",
    "# VIOLIN PLOT\n",
    "parts = axs12.violinplot(sign_groups, showmeans=False, showmedians=False, showextrema=False, vert=False)\n",
    "for pc in parts['bodies']:\n",
    "    pc.set_facecolor('#D43F3A')\n",
    "    pc.set_edgecolor('black')\n",
    "    pc.set_alpha(1)\n",
    "quartile1, medians, quartile3 = [], [], []\n",
    "for l in sign_groups:\n",
    "    quartile1.append(np.percentile(l, [25, 50, 75])[0])\n",
    "    medians.append(np.percentile(l, [25, 50, 75])[1])\n",
    "    quartile3.append(np.percentile(l, [25, 50, 75])[2])\n",
    "whiskers = np.array([adjacent_values(sorted_array, q1, q3) for sorted_array, q1, q3 in zip(sign_groups, quartile1, quartile3)])\n",
    "whiskers_min, whiskers_max = whiskers[:, 0], whiskers[:, 1]\n",
    "inds = np.arange(1, len(medians) + 1)\n",
    "axs12.scatter(medians, inds, marker='o', color='grey', s=30, zorder=3)\n",
    "axs12.hlines(inds, quartile1, quartile3, color='k', linestyle='-', lw=5)\n",
    "axs12.hlines(inds, whiskers_min, whiskers_max, color='k', linestyle='-', lw=1)\n",
    "# Tick\n",
    "axs12.set_yticks([1, 2, 3])\n",
    "axs12.set_xlim(0.05, 0.45)\n",
    "axs12.set_xticks([0.1, 0.2, 0.3, 0.4])\n",
    "axs12.set_yticklabels(index, fontsize=12)\n",
    "axs12.set_xlabel('$\\sigma_e$ ranges [°C]', fontsize=12)\n",
    "axs12.set_axisbelow(True)\n",
    "axs12.grid(axis='x', linestyle='--', zorder=-1)\n",
    "#axs12.set_title('$e_k$\\nStandard\\nDeviation\\n', fontsize=13)\n",
    "\n",
    "\n",
    "\n",
    "# Significance\n",
    "### SIGNIFICANCE PLOT\n",
    "sign_groups = []\n",
    "for key in index:\n",
    "  idx = list(df_res.groupby(['model_name']).groups[key])\n",
    "  # Significance\n",
    "  sign_groups.append(df_res.loc[idx, 'significance_prop'].values)\n",
    "# Source: https://matplotlib.org/stable/gallery/statistics/customized_violin.html#sphx-glr-gallery-statistics-customized-violin-py\n",
    "def adjacent_values(vals, q1, q3):\n",
    "    upper_adjacent_value = q3 + (q3 - q1) * 1.5\n",
    "    upper_adjacent_value = np.clip(upper_adjacent_value, q3, vals[-1])\n",
    "\n",
    "    lower_adjacent_value = q1 - (q3 - q1) * 1.5\n",
    "    lower_adjacent_value = np.clip(lower_adjacent_value, vals[0], q1)\n",
    "    return lower_adjacent_value, upper_adjacent_value\n",
    "# VIOLIN PLOT\n",
    "parts = axs22.violinplot(sign_groups, showmeans=False, showmedians=False, showextrema=False, vert=False)\n",
    "for pc in parts['bodies']:\n",
    "    pc.set_facecolor('#D43F3A')\n",
    "    pc.set_edgecolor('black')\n",
    "    pc.set_alpha(1)\n",
    "quartile1, medians, quartile3 = [], [], []\n",
    "for l in sign_groups:\n",
    "    quartile1.append(np.percentile(l, [25, 50, 75])[0])\n",
    "    medians.append(np.percentile(l, [25, 50, 75])[1])\n",
    "    quartile3.append(np.percentile(l, [25, 50, 75])[2])\n",
    "whiskers = np.array([adjacent_values(sorted_array, q1, q3) for sorted_array, q1, q3 in zip(sign_groups, quartile1, quartile3)])\n",
    "whiskers_min, whiskers_max = whiskers[:, 0], whiskers[:, 1]\n",
    "inds = np.arange(1, len(medians) + 1)\n",
    "axs22.scatter(medians, inds, marker='o', color='grey', s=30, zorder=3)\n",
    "axs22.hlines(inds, quartile1, quartile3, color='k', linestyle='-', lw=5)\n",
    "axs22.hlines(inds, whiskers_min, whiskers_max, color='k', linestyle='-', lw=1)\n",
    "# Ticks\n",
    "axs22.yaxis.set_visible(False)\n",
    "axs22.set_xlabel('Proportion [%]', fontsize=12)\n",
    "axs22.set_axisbelow(True)\n",
    "axs22.grid(axis='x', linestyle='--', zorder=-1)\n",
    "axs22.set_xticks([20, 40, 60, 80])\n",
    "axs22.set_xlim(15,100)\n",
    "#axs22.set_title('Significant\\nparameters\\n', fontsize=13)\n",
    "\n",
    "### Proportion of model iteration\n",
    "parameter = 'iteration'   # home_type, home_size\n",
    "df_res1[parameter].fillna(\"Unknown\", inplace=True)\n",
    "# defining color map - https://towardsdatascience.com/stacked-bar-charts-with-pythons-matplotlib-f4020e4eb4a7\n",
    "cmap = matplotlib.cm.get_cmap('Spectral')\n",
    "colors = []\n",
    "int = 0\n",
    "for i in np.linspace(0,1,len(df_res1[parameter].unique())):\n",
    "    colors.append(cmap(i))\n",
    "counts = df_res1.groupby(['model_name', parameter]).size().reset_index().pivot_table(values=0, index=['model_name'], columns=parameter, aggfunc=np.sum).fillna(0)\n",
    "counts = counts.loc[index]\n",
    "counts = counts.loc[:, counts.columns != 'Unknown'].divide( counts.loc[:, counts.columns != 'Unknown'].sum(axis=1), axis='index').fillna(0)*100\n",
    "\n",
    "left = len(counts) * [0]\n",
    "for idx, name in enumerate(counts.columns):\n",
    "    axs32.barh(counts.index, counts[name], left = left, color=colors[idx], label=name, zorder=3)\n",
    "    left = left + counts[name]\n",
    "# Legend\n",
    "axs32.set_xlabel('Proportion [%]', fontsize=12)\n",
    "axs32.grid(axis='x', linestyle='--', zorder=0)\n",
    "# Ticks\n",
    "axs32.set_yticklabels(counts.index, fontsize=12)\n",
    "axs32.set_xticks([25, 50, 75])\n",
    "axs32.set_xlim(0,100)\n",
    "axs32.yaxis.set_visible(False)\n",
    "\n",
    "# Model fits\n",
    "# Groupby keys\n",
    "bins = pd.IntervalIndex.from_tuples([(-0.01, 0.01), (0.01, 0.025), (0.025, 0.9)])\n",
    "df_res[\"CPBES_groups\"] = pd.cut(df_res[\"nCPBES\"], bins=bins, labels=['good', 'close', 'poor']).astype(str)\n",
    "\n",
    "parameter = \"CPBES_groups\"\n",
    "# defining color map - https://towardsdatascience.com/stacked-bar-charts-with-pythons-matplotlib-f4020e4eb4a7\n",
    "cmap = matplotlib.cm.get_cmap('Spectral')\n",
    "colors = []\n",
    "for i in np.linspace(0,1,len(df_res[parameter].unique())):\n",
    "    colors.append(cmap(i))\n",
    "counts = df_res.groupby(['model_name', parameter]).size().reset_index().pivot_table(values=0, index=['model_name'], columns=parameter, aggfunc=np.sum).fillna(0)\n",
    "counts = counts.loc[index]\n",
    "counts = counts.loc[:, counts.columns != 'Unknown'].divide( counts.loc[:, counts.columns != 'Unknown'].sum(axis=1), axis='index').fillna(0)*100\n",
    "\n",
    "left = len(counts) * [0]\n",
    "labels={'(-0.01, 0.01]':'good', '(0.01, 0.025]':'close', '(0.025, 0.9]':'poor'}\n",
    "for idx, name in enumerate(counts.columns):\n",
    "    axs42.barh(index, counts[name], left = left, color=colors[idx], label=labels[name], zorder=3)\n",
    "    left = left + counts[name]\n",
    "# Legend\n",
    "axs42.legend(prop={'size': 12}, title = \"Model fit\", title_fontsize='large', frameon=False, \n",
    "            bbox_to_anchor=(0, -0.8, 1, 0), loc=\"lower left\", mode=\"expand\", ncol=1)  # \"Home size [$m^2$]\"\n",
    "axs42.set_xlabel('Proportion [%]', fontsize=12)\n",
    "axs42.grid(axis='x', linestyle='--', zorder=0)\n",
    "# Ticks\n",
    "axs42.set_xticks([25, 50, 75])\n",
    "axs42.set_xlim(0,100)\n",
    "axs42.yaxis.set_visible(False)\n",
    "\n",
    "## Count plot\n",
    "counts = df_res.groupby(['model_name']).size().reset_index().fillna(0)\n",
    "\n",
    "left = len(counts) * [0]\n",
    "axs82.barh(index, counts[0], left = left, color='k', label='Known', zorder=3)\n",
    "\n",
    "\n",
    "# Legend\n",
    "axs82.set_xlabel('Counts [#]', fontsize=12)\n",
    "axs82.grid(axis='x', linestyle='--', zorder=0)\n",
    "# Ticks\n",
    "tick_list =np.arange(0, rof(round(max(df_res.groupby(['model_name']).size()))), 1)\n",
    "axs82.set_xticks(tick_list)\n",
    "nan_list = ([0, np.nan]*math.floor(len(tick_list)/2))\n",
    "tick_label = [sum(x) for x in itertools.zip_longest(*[tick_list, nan_list], fillvalue=0)]\n",
    "tick_label = [None if np.isnan(x) else x for x in tick_label]\n",
    "axs82.set_xticklabels(tick_label, fontsize=12)\n",
    "axs82.yaxis.set_visible(False)\n",
    "\n",
    "\n",
    "# Saving figure\n",
    "path_fig = root_directory + \"/fig/\"\n",
    "plt.savefig(path_fig+\"GB_model_distribution.jpeg\", format='jpeg', dpi=150, bbox_inches='tight')"
   ]
  },
  {
   "cell_type": "markdown",
   "metadata": {},
   "source": [
    "# Estimated RC parameter scatter"
   ]
  },
  {
   "cell_type": "code",
   "execution_count": 5,
   "metadata": {},
   "outputs": [
    {
     "data": {
      "image/png": "[encoded data removed]",
      "text/plain": [
       "<Figure size 1152x252 with 5 Axes>"
      ]
     },
     "metadata": {
      "needs_background": "light"
     },
     "output_type": "display_data"
    }
   ],
   "source": [
    "import numpy as np\n",
    "import seaborn as sns\n",
    "import matplotlib.pyplot as plt\n",
    "from matplotlib import gridspec\n",
    "import matplotlib\n",
    "import itertools\n",
    "import math\n",
    "\n",
    "# Load df_res\n",
    "df_res = pd.read_csv(path_res+'all_final_fits.csv')\n",
    "# Drop first column & set index as uuid\n",
    "df_res = df_res.drop(['Unnamed: 0'], axis=1).set_index(\"uuid\")\n",
    "\n",
    "### DATA PREP\n",
    "dic_params = {\"Ts\": ['Cs', 'Ris'], \"Ti\": ['Ci', 'Ria'], \"Tm\": ['Cm', 'Rim'], \"Th\": ['Ch', 'Rih'], \"Te\": ['Ce', 'Rie']}\n",
    "             #\"TeAeRia\": ['Ae', 'Rie']}\n",
    "dic_paramsp = {\"Ts\": ['Cs_p', 'Ris_p'], \"Ti\": ['Ci_p', 'Ria_p'], \"Tm\": ['Cm_p', 'Rim_p'], \"Th\": ['Ch_p', 'Rih_p'], \"Te\": ['Ce_p', 'Rie_p']}\n",
    "  \n",
    "# Font\n",
    "plt.rc('font', family='serif')\n",
    "plt.rc('xtick', labelsize=12)\n",
    "plt.rc('ytick', labelsize=12)\n",
    "\n",
    "# Subplots\n",
    "col_nb = len(dic_params.keys())\n",
    "fig = plt.figure(constrained_layout=True, figsize=(16, 3.5))\n",
    "spec = gridspec.GridSpec(ncols=col_nb, nrows=1, figure=fig,\n",
    "                         #height_ratios=[2, 5], \n",
    "                         left=0, right=1, #hspace=-1\n",
    "                        )\n",
    "\n",
    "# Plots\n",
    "axs = dict()\n",
    "i=0\n",
    "for key in dic_params:\n",
    "  # subplot\n",
    "  axs[i] = fig.add_subplot(spec[i])\n",
    "  # scatter\n",
    "  group1 = df_res['nCPBES'].values\n",
    "  group2 = df_res[dic_paramsp[key][0]].values\n",
    "  group3 = df_res[dic_paramsp[key][1]].values\n",
    "  \n",
    "  ixg = np.where(group1 <= 0.01)[0]\n",
    "  ixb = np.where(group1 > 0.01)[0]\n",
    "  \n",
    "  ixs1 = np.where(group2 <= 0.05)[0]\n",
    "  ixs2 = np.where(group3 <= 0.05)[0]\n",
    "  ixns1 = np.where(group2 <= 0.05)[0]\n",
    "  ixns2 = np.where(group3 <= 0.05)[0]\n",
    "  \n",
    "  label_goodfit_sign = 'Good fit & signif. param.' if (key == 'Te') else ''\n",
    "  label_poorfit_sign = 'Poor fit & signif. param.' if (key == 'Te') else ''\n",
    "  label_goodfit_nosign = 'Good fit & non signif. param.' if (key == 'Te') else ''\n",
    "  label_poorfit_nosign = 'Poor fit & non signif. param.' if (key == 'Te') else ''\n",
    "  \n",
    "  significance_intersect = [value for value in ixs1 if value in ixs2]\n",
    "  significance_nonintersect = [value for value in ixs1 if value not in ixs2]\n",
    "  nonsignificance_intersect = [value for value in ixns1 if value in ixns2]\n",
    "  \n",
    "  # Indexes to plot\n",
    "  goodfit_significant = [value for value in ixg if value in significance_intersect]\n",
    "  goodfit_nonsignificant1 = [value for value in ixg if value not in significance_intersect]\n",
    "  goodfit_nonsignificant2 = [value for value in ixg if value in significance_nonintersect]\n",
    "  poorfit_significant = [value for value in ixb if value in significance_intersect]\n",
    "  poorfit_nonsignificant1 = [value for value in ixb if value not in significance_intersect]\n",
    "  poorfit_nonsignificant2 = [value for value in ixb if value in significance_nonintersect]\n",
    "\n",
    "  ix = df_res.iloc[goodfit_significant].index\n",
    "  axs[i].scatter(x=df_res.loc[ix,dic_params[key][0]], \n",
    "                 y=df_res.loc[ix,dic_params[key][1]],\n",
    "                 color = \"red\", \n",
    "                 label = label_goodfit_sign,\n",
    "                 alpha=0.8,\n",
    "                 s = 25,\n",
    "                 marker= \"o\",\n",
    "                 zorder=3)\n",
    "  ix = df_res.iloc[goodfit_nonsignificant1].index\n",
    "  axs[i].scatter(x=df_res.loc[ix,dic_params[key][0]], \n",
    "           y=df_res.loc[ix,dic_params[key][1]],\n",
    "           color = 'red', \n",
    "           label = '',\n",
    "           alpha=0.8,\n",
    "           s = 25,\n",
    "           marker= \"x\",\n",
    "           zorder=3)\n",
    "  ix = df_res.iloc[goodfit_nonsignificant2].index\n",
    "  axs[i].scatter(x=df_res.loc[ix,dic_params[key][0]], \n",
    "           y=df_res.loc[ix,dic_params[key][1]],\n",
    "           color = 'grey', \n",
    "           label = label_goodfit_nosign,\n",
    "           alpha=0.8,\n",
    "           s = 25,\n",
    "           marker= \"o\",\n",
    "           zorder=3)\n",
    "  ix = df_res.iloc[poorfit_significant].index\n",
    "  axs[i].scatter(x=df_res.loc[ix,dic_params[key][0]], \n",
    "                 y=df_res.loc[ix,dic_params[key][1]],\n",
    "                 color = \"red\", \n",
    "                 label = label_poorfit_sign,\n",
    "                 alpha=0.8,\n",
    "                 s = 25,\n",
    "                 marker= \"x\",\n",
    "                 zorder=3)\n",
    "  ix = df_res.iloc[poorfit_nonsignificant1].index\n",
    "  axs[i].scatter(x=df_res.loc[ix,dic_params[key][0]], \n",
    "           y=df_res.loc[ix,dic_params[key][1]],\n",
    "           color = 'grey', \n",
    "           label = '',\n",
    "           alpha=0.8,\n",
    "           s = 25,\n",
    "           marker= \"x\",\n",
    "           zorder=3)\n",
    "  ix = df_res.iloc[poorfit_nonsignificant2].index\n",
    "  axs[i].scatter(x=df_res.loc[ix,dic_params[key][0]], \n",
    "           y=df_res.loc[ix,dic_params[key][1]],\n",
    "           color = 'grey', \n",
    "           label = label_poorfit_nosign,\n",
    "           alpha=0.8,\n",
    "           s = 25,\n",
    "           marker= \"x\",\n",
    "           zorder=3)\n",
    "  \n",
    "  # params\n",
    "  axs[i].set_title(key+\" model component\", fontsize=14)\n",
    "  # Labels\n",
    "  axs[i].set_xlabel(dic_params[key][0], fontsize=12)\n",
    "  axs[i].set_ylabel(dic_params[key][1], fontsize=12)\n",
    "  \n",
    "  axs[i].grid(axis='x', linestyle=':', zorder=0)\n",
    "  axs[i].grid(axis='y', linestyle=':', zorder=0)\n",
    "\n",
    "  i += 1\n",
    "\n",
    "# Legend\n",
    "fig.legend(prop={'size': 14}, ncol=4, title = \"Model fit quality & parameter significance\", title_fontsize=16, frameon=False,  \n",
    "                bbox_to_anchor=(.95, -.05))\n",
    "#display()\n",
    "\n",
    "## Saving figure\n",
    "path_fig = root_directory + \"/fig/\"\n",
    "plt.savefig(path_fig+\"GB_RC_param.jpeg\", format='jpeg', dpi=150, bbox_inches='tight')"
   ]
  },
  {
   "cell_type": "markdown",
   "metadata": {},
   "source": [
    "# Total Capacity and Heat Transfer Coefficient (HTC) scatter"
   ]
  },
  {
   "cell_type": "code",
   "execution_count": 7,
   "metadata": {},
   "outputs": [
    {
     "data": {
      "image/png": "[encoded data removed]",
      "text/plain": [
       "<Figure size 504x288 with 3 Axes>"
      ]
     },
     "metadata": {
      "needs_background": "light"
     },
     "output_type": "display_data"
    }
   ],
   "source": [
    "import numpy as np\n",
    "import seaborn as sns\n",
    "import matplotlib.pyplot as plt\n",
    "from matplotlib import gridspec\n",
    "import matplotlib.ticker\n",
    "import matplotlib\n",
    "\n",
    "# Font\n",
    "plt.rc('font', family='serif')\n",
    "plt.rc('xtick', labelsize=12)\n",
    "plt.rc('ytick', labelsize=12)\n",
    "\n",
    "# Get Unique models\n",
    "model_group = list(df_res['model_name'].unique())\n",
    "model_group = sorted(model_group, key=lambda el: len(el))\n",
    "# Color map\n",
    "# List of colors in the color palettes\n",
    "rgb_values = sns.color_palette(\"Spectral\", len(model_group))\n",
    "# Map continents to the colors\n",
    "color_map = dict(zip(model_group, rgb_values))\n",
    "# Color map\n",
    "cmap = matplotlib.cm.get_cmap('Spectral')\n",
    "colors = []\n",
    "int = 0\n",
    "for i in np.linspace(0,1,len(model_group)):\n",
    "    colors.append(cmap(i))\n",
    "\n",
    "\n",
    "# Figure declaration\n",
    "fig = plt.figure(figsize=(7,4), constrained_layout=True)\n",
    "\n",
    "# https://matplotlib.org/stable/gallery/lines_bars_and_markers/scatter_hist.html\n",
    "# Also adjust the subplot parameters for a square plot.\n",
    "gs = fig.add_gridspec(2, 2,  width_ratios=(7, 2), height_ratios=(2, 7),\n",
    "                      left=0.1, right=0.9, bottom=0.1, top=0.9,\n",
    "                      wspace=-0.05, hspace=-0.05)\n",
    "ax = fig.add_subplot(gs[1, 0])\n",
    "ax_histx = fig.add_subplot(gs[0, 0], sharex=ax)\n",
    "ax_histy = fig.add_subplot(gs[1, 1], sharey=ax)\n",
    "\n",
    "### Scatter\n",
    "# NB: This subsection runs in to errors when all unique model groups are of length 1\n",
    "# # https://stackoverflow.com/questions/47006268/matplotlib-scatter-plot-with-color-label-and-legend-specified-by-c-option\n",
    "# #group = df_res['model_name'].values\n",
    "# for g in model_group:\n",
    "#     #ix = np.where(group == g)[0]\n",
    "#     ax.scatter(x=df_res.loc[df_res['model_name'] == g,'HTC'], \n",
    "#                y=df_res.loc[df_res['model_name'] == g,['Ci', 'Cm', 'Ce', 'Ch', 'Cs']].sum(axis=1),\n",
    "#                color = color_map[g], \n",
    "#                label = g,\n",
    "#                alpha=0.6,\n",
    "#                s = 16, \n",
    "#                zorder=3)\n",
    "# #ax.set_yscale('log')\n",
    "# ax.set_xscale('log')\n",
    "\n",
    "# NB: This simplified scatter replaces the one above for specific cases such as this when all unique model groups are of length 1\n",
    "ax.scatter(x=df_res.loc[:,'HTC'], \n",
    "            y=df_res.loc[:,['Ci', 'Cm', 'Ce', 'Ch', 'Cs']].sum(axis=1),\n",
    "            color = 'k', \n",
    "            label = df_res['model_name'].values,\n",
    "            alpha=0.8,\n",
    "            s = 16, \n",
    "            zorder=3)\n",
    "ax.set_xscale('log')\n",
    "\n",
    "# Input data separation\n",
    "x, y = pd.DataFrame(), pd.DataFrame()\n",
    "for i in model_group:\n",
    "  x = pd.concat([x, df_res.loc[df_res['model_name'] == i, 'HTC'].reset_index()['HTC']], axis=1)\n",
    "  y = pd.concat([y, df_res.loc[df_res['model_name'] == i, ['Ci', 'Cm', 'Ce', 'Ch', 'Cs']].reset_index()[['Ci', 'Cm', 'Ce', 'Ch', 'Cs']].sum(axis=1)], axis=1)\n",
    "x.columns = model_group\n",
    "y.columns = model_group\n",
    "# Histogram distributions\n",
    "ax_histx.hist(x.values, bins=50, density=True, \n",
    "              histtype='bar', stacked=True, ls='solid', zorder=3, \n",
    "              color=colors, label=[str(x) for x in x.columns])\n",
    "ax_histy.hist(y.values, bins=40, density=True, orientation='horizontal',\n",
    "              histtype='bar', stacked=True, ls='solid', zorder=3, \n",
    "              color=colors, label=[str(x) for x in y.columns])\n",
    "\n",
    "#ax_histy.set_yscale('log')\n",
    "ax_histx.set_xscale('log')\n",
    "\n",
    "ax.set_xticks([0.01, 0.1, 0.25, 0.5, 1, 1.75])\n",
    "ax.get_xaxis().set_major_formatter(matplotlib.ticker.ScalarFormatter())\n",
    "#ax.get_xaxis().get_major_formatter().labelOnlyBase = False\n",
    "\n",
    "# Make some axis invisible\n",
    "ax_histx.axis('off')\n",
    "ax_histy.axis('off')\n",
    "\n",
    "# Grid\n",
    "ax.grid(axis='x', linestyle=':', zorder=0)\n",
    "ax.grid(axis='y', linestyle=':', zorder=0)\n",
    "# Labels\n",
    "ax.set_xlabel('Heat Transfer Coefficient [kW/K]', fontsize=12)\n",
    "ax.set_ylabel('Total building thermal capacity [kWh/K]', fontsize=12)\n",
    "# # Legend\n",
    "# ax.legend(prop={'size': 12}, ncol=2, title = \"Model Selected\", title_fontsize=12, \n",
    "#                 bbox_to_anchor=(-0.8, 1), loc=\"upper left\")\n",
    "ax_histy.legend(prop={'size': 12}, ncol=1, title = \"Model Selected\", title_fontsize=12, \n",
    "                bbox_to_anchor=(1, 1), loc=\"upper left\")\n",
    "#plt.show()\n",
    "\n",
    "# Saving figure\n",
    "plt.savefig(path_fig+\"GB_HTC_scatter.jpeg\", format='jpeg', dpi=150, bbox_inches='tight')"
   ]
  }
 ],
 "metadata": {
  "interpreter": {
   "hash": "122091d31aad17b979a42a86d0545fc6a92f60161086b1408c5027d8b71f969f"
  },
  "kernelspec": {
   "display_name": "Python 3.7.5 64-bit ('Continuum': virtualenv)",
   "language": "python",
   "name": "python3"
  },
  "language_info": {
   "codemirror_mode": {
    "name": "ipython",
    "version": 3
   },
   "file_extension": ".py",
   "mimetype": "text/x-python",
   "name": "python",
   "nbconvert_exporter": "python",
   "pygments_lexer": "ipython3",
   "version": "3.7.11"
  }
 },
 "nbformat": 4,
 "nbformat_minor": 2
}
